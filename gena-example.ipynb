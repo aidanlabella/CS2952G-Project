{
 "cells": [
  {
   "cell_type": "code",
   "execution_count": 10,
   "id": "304556c7-1530-41d1-b1cc-9914e5da92fc",
   "metadata": {},
   "outputs": [],
   "source": [
    "import re\n",
    "\n",
    "import tqdm\n",
    "import pandas as pd\n",
    "import numpy as np\n",
    "\n",
    "import torch\n",
    "from transformers import AutoTokenizer\n",
    "from GENA_LM.src.gena_lm.modeling_bert import BertForSequenceClassification"
   ]
  },
  {
   "cell_type": "code",
   "execution_count": 3,
   "id": "50bcedd5-d5ac-4c3e-b8f9-73bc1d0f6aab",
   "metadata": {},
   "outputs": [],
   "source": [
    "train = pd.read_csv('data/train_data.csv')"
   ]
  },
  {
   "cell_type": "code",
   "execution_count": 4,
   "id": "1e05bc27-ee68-4cb3-824e-5f395519e944",
   "metadata": {},
   "outputs": [
    {
     "name": "stderr",
     "output_type": "stream",
     "text": [
      "tokenizer_config.json: 100%|██████████████████████████████████████████████████████████████████████████████████████████████████████████████████████████████████████████████| 46.0/46.0 [00:00<00:00, 13.0kB/s]\n",
      "tokenizer.json: 100%|███████████████████████████████████████████████████████████████████████████████████████████████████████████████████████████████████████████████████| 1.54M/1.54M [00:00<00:00, 8.42MB/s]\n",
      "special_tokens_map.json: 100%|██████████████████████████████████████████████████████████████████████████████████████████████████████████████████████████████████████████████| 112/112 [00:00<00:00, 45.5kB/s]\n"
     ]
    }
   ],
   "source": [
    "tokenizer = AutoTokenizer.from_pretrained('AIRI-Institute/gena-lm-bert-base')"
   ]
  },
  {
   "cell_type": "code",
   "execution_count": 7,
   "id": "e4c759e5-2341-4f99-8539-102d3659fb73",
   "metadata": {},
   "outputs": [
    {
     "name": "stderr",
     "output_type": "stream",
     "text": [
      "config.json: 100%|███████████████████████████████████████████████████████████████████████████████████████████████████████████████████████████████████████████████████████████| 754/754 [00:00<00:00, 230kB/s]\n",
      "pytorch_model.bin: 100%|██████████████████████████████████████████████████████████████████████████████████████████████████████████████████████████████████████████████████| 543M/543M [00:33<00:00, 16.0MB/s]\n",
      "Some weights of BertForSequenceClassification were not initialized from the model checkpoint at AIRI-Institute/gena-lm-bert-base and are newly initialized: ['classifier.weight', 'classifier.bias']\n",
      "You should probably TRAIN this model on a down-stream task to be able to use it for predictions and inference.\n"
     ]
    }
   ],
   "source": [
    "model = BertForSequenceClassification.from_pretrained('AIRI-Institute/gena-lm-bert-base')"
   ]
  },
  {
   "cell_type": "code",
   "execution_count": null,
   "id": "e5704aab-23c7-4f31-90d1-35300d4038ef",
   "metadata": {},
   "outputs": [
    {
     "name": "stderr",
     "output_type": "stream",
     "text": [
      "Embedding Inputs --->:   0%|                                                                                                                                                     | 0/1643680 [00:00<?, ?it/s]/Users/mzuo6/Development/Brown/gpt-5/venv/lib/python3.9/site-packages/transformers/modeling_utils.py:907: FutureWarning: The `device` argument is deprecated and will be removed in v5 of Transformers.\n",
      "  warnings.warn(\n",
      "Embedding Inputs --->:   0%|                                                                                                                                        | 626/1643680 [01:37<68:32:24,  6.66it/s]"
     ]
    }
   ],
   "source": [
    "train_embeddings = []\n",
    "\n",
    "for val in tqdm.tqdm(train['sequence'] , total=train.shape[0] , desc='Embedding Inputs --->'):\n",
    "  value = [' '.join(list(re.sub(r'[UZOB]', 'X', val)))]\n",
    "  tokens = tokenizer(value , return_tensors = 'pt')['input_ids']\n",
    "  with torch.no_grad():\n",
    "      embs = model(tokens).logits.detach().numpy().tolist()\n",
    "  train_embeddings.append(embs)"
   ]
  }
 ],
 "metadata": {
  "kernelspec": {
   "display_name": "Python 3 (ipykernel)",
   "language": "python",
   "name": "python3"
  },
  "language_info": {
   "codemirror_mode": {
    "name": "ipython",
    "version": 3
   },
   "file_extension": ".py",
   "mimetype": "text/x-python",
   "name": "python",
   "nbconvert_exporter": "python",
   "pygments_lexer": "ipython3",
   "version": "3.9.6"
  }
 },
 "nbformat": 4,
 "nbformat_minor": 5
}
